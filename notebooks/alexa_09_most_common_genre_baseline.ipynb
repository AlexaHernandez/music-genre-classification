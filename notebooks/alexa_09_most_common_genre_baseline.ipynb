{
  "nbformat": 4,
  "nbformat_minor": 0,
  "metadata": {
    "colab": {
      "name": "alexa-09-most-common-genre-baseline.ipynb",
      "provenance": []
    },
    "kernelspec": {
      "name": "python3",
      "display_name": "Python 3"
    }
  },
  "cells": [
    {
      "cell_type": "markdown",
      "metadata": {
        "id": "YixG2De1n1ii"
      },
      "source": [
        "## Notebook to compute the validation and test accuracy of the most common genre baseline."
      ]
    },
    {
      "cell_type": "code",
      "metadata": {
        "colab": {
          "base_uri": "https://localhost:8080/"
        },
        "id": "wyIUkcdteNEc",
        "outputId": "81ec2062-abbd-4cf0-b109-13cafbde6760"
      },
      "source": [
        "import pandas as pd\r\n",
        "from sklearn.model_selection import train_test_split\r\n",
        "from sklearn.metrics import accuracy_score\r\n",
        "from sklearn.base import BaseEstimator, ClassifierMixin\r\n",
        "\r\n",
        "# Load data\r\n",
        "df = pd.read_csv(\"scraped-lyrics-v2-preprocessed.csv\")\r\n",
        "df1 = df.drop(columns=[\"artist\", \"song\", \"lyrics\"])\r\n",
        "\r\n",
        "# Find most common genre\r\n",
        "df1_grouped = df1.groupby([\"category\"], as_index=False).count()\r\n",
        "df1_most_common_genre = df1_grouped[df1_grouped.genres == df1_grouped.genres.max()]\r\n",
        "most_common_genre = df1_most_common_genre.category.tolist()[0]\r\n",
        "print(f\"The most common genre is: {most_common_genre}\")"
      ],
      "execution_count": 41,
      "outputs": [
        {
          "output_type": "stream",
          "text": [
            "The most common genre is: Country\n"
          ],
          "name": "stdout"
        }
      ]
    },
    {
      "cell_type": "markdown",
      "metadata": {
        "id": "o3qDU0jaoATF"
      },
      "source": [
        "## Create most common genre baseline"
      ]
    },
    {
      "cell_type": "code",
      "metadata": {
        "id": "H038oLWnk1bG"
      },
      "source": [
        "class MostCommonGenre(BaseEstimator, ClassifierMixin):\r\n",
        "    \"\"\"Custom classifier that predicts the most common genre.\"\"\"\r\n",
        "\r\n",
        "    def __init__(self, most_common_genre):\r\n",
        "      self.mcg = most_common_genre\r\n",
        "\r\n",
        "    def fit(self, X, y):\r\n",
        "        return self\r\n",
        "\r\n",
        "    def predict(self, X):\r\n",
        "        return [self.mcg for x in X]"
      ],
      "execution_count": 42,
      "outputs": []
    },
    {
      "cell_type": "markdown",
      "metadata": {
        "id": "he7gQ2pWoGYa"
      },
      "source": [
        "## Split the data into train-val-test subsets"
      ]
    },
    {
      "cell_type": "code",
      "metadata": {
        "colab": {
          "base_uri": "https://localhost:8080/"
        },
        "id": "v0VbmwfJl4FY",
        "outputId": "1588bf0d-65bc-465e-d69e-cc2f801d54cf"
      },
      "source": [
        "lyrics = df.lyrics.tolist()\r\n",
        "genres = df.category.tolist()\r\n",
        "\r\n",
        "\r\n",
        "X_train, X_test, y_train, y_test = train_test_split(lyrics, \r\n",
        "                                                  genres, \r\n",
        "                                                  test_size=0.15)\r\n",
        "X_train, X_val, y_train, y_val = train_test_split(X_train, \r\n",
        "                                                  y_train, \r\n",
        "                                                  test_size=0.15)\r\n",
        "\r\n",
        "print(f\"Train size: {len(X_train)/len(lyrics)}, Val size: {len(X_val)/len(lyrics)}, Test size: {len(X_test)/len(lyrics)}\")"
      ],
      "execution_count": 45,
      "outputs": [
        {
          "output_type": "stream",
          "text": [
            "Train size: 0.722491868049524, Val size: 0.12750557741105945, Test size: 0.15000255453941655\n"
          ],
          "name": "stdout"
        }
      ]
    },
    {
      "cell_type": "markdown",
      "metadata": {
        "id": "AUFG1wsonhwI"
      },
      "source": [
        "Compute the validation and test accuracy"
      ]
    },
    {
      "cell_type": "code",
      "metadata": {
        "colab": {
          "base_uri": "https://localhost:8080/"
        },
        "id": "dcobifawmM9n",
        "outputId": "8e9de7ed-ad2b-4745-be13-4f2349624049"
      },
      "source": [
        "mcg = MostCommonGenre(most_common_genre)\r\n",
        "y_pred = mcg.predict(X_val)\r\n",
        "val_acc = accuracy_score(y_val, y_pred)\r\n",
        "print(f\"Validation accuracy: {val_acc}\")\r\n",
        "\r\n",
        "y_pred = mcg.predict(X_test)\r\n",
        "test_acc = accuracy_score(y_test, y_pred)\r\n",
        "print(f\"Test accuracy: {test_acc}\")"
      ],
      "execution_count": 49,
      "outputs": [
        {
          "output_type": "stream",
          "text": [
            "Validation accuracy: 0.12621877921731\n",
            "Test accuracy: 0.13521798365122617\n"
          ],
          "name": "stdout"
        }
      ]
    }
  ]
}