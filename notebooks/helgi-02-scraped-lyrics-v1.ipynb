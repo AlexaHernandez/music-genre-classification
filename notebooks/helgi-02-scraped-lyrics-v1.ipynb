{
 "cells": [
  {
   "cell_type": "markdown",
   "metadata": {},
   "source": [
    "# Data exploration"
   ]
  },
  {
   "cell_type": "code",
   "execution_count": 1,
   "metadata": {},
   "outputs": [],
   "source": [
    "import numpy as np\n",
    "import pandas as pd"
   ]
  },
  {
   "cell_type": "code",
   "execution_count": 2,
   "metadata": {},
   "outputs": [
    {
     "data": {
      "text/html": [
       "<div>\n",
       "<style scoped>\n",
       "    .dataframe tbody tr th:only-of-type {\n",
       "        vertical-align: middle;\n",
       "    }\n",
       "\n",
       "    .dataframe tbody tr th {\n",
       "        vertical-align: top;\n",
       "    }\n",
       "\n",
       "    .dataframe thead th {\n",
       "        text-align: right;\n",
       "    }\n",
       "</style>\n",
       "<table border=\"1\" class=\"dataframe\">\n",
       "  <thead>\n",
       "    <tr style=\"text-align: right;\">\n",
       "      <th></th>\n",
       "      <th>artist</th>\n",
       "      <th>song</th>\n",
       "      <th>lyrics</th>\n",
       "      <th>genre</th>\n",
       "    </tr>\n",
       "  </thead>\n",
       "  <tbody>\n",
       "    <tr>\n",
       "      <th>0</th>\n",
       "      <td>Disperse</td>\n",
       "      <td>Tether</td>\n",
       "      <td>Warm-hearted\\nDirections\\nWe're off the map\\nI...</td>\n",
       "      <td>Alternative Rock</td>\n",
       "    </tr>\n",
       "    <tr>\n",
       "      <th>1</th>\n",
       "      <td>Disperse</td>\n",
       "      <td>Foreword</td>\n",
       "      <td>[Instrumental]</td>\n",
       "      <td>Alternative Rock</td>\n",
       "    </tr>\n",
       "    <tr>\n",
       "      <th>2</th>\n",
       "      <td>Disperse</td>\n",
       "      <td>Touching The Golden Cloud</td>\n",
       "      <td>Hear in this garden\\nHear in this space\\nImmer...</td>\n",
       "      <td>Alternative Rock</td>\n",
       "    </tr>\n",
       "    <tr>\n",
       "      <th>3</th>\n",
       "      <td>Disperse</td>\n",
       "      <td>Neon</td>\n",
       "      <td>Hello dear stranger\\nI've got so much to tell ...</td>\n",
       "      <td>Alternative Rock</td>\n",
       "    </tr>\n",
       "    <tr>\n",
       "      <th>4</th>\n",
       "      <td>Disperse</td>\n",
       "      <td>Kites</td>\n",
       "      <td>Still a headache\\nFrom last night\\nIt was vali...</td>\n",
       "      <td>Alternative Rock</td>\n",
       "    </tr>\n",
       "    <tr>\n",
       "      <th>...</th>\n",
       "      <td>...</td>\n",
       "      <td>...</td>\n",
       "      <td>...</td>\n",
       "      <td>...</td>\n",
       "    </tr>\n",
       "    <tr>\n",
       "      <th>79995</th>\n",
       "      <td>Flyleaf</td>\n",
       "      <td>Broken Wings</td>\n",
       "      <td>Thank you for being such a friend to me\\nOh, I...</td>\n",
       "      <td>Rock</td>\n",
       "    </tr>\n",
       "    <tr>\n",
       "      <th>79996</th>\n",
       "      <td>Flyleaf</td>\n",
       "      <td>Swept Away</td>\n",
       "      <td>The evil fell from your pretty mouth\\nWrapped ...</td>\n",
       "      <td>Rock</td>\n",
       "    </tr>\n",
       "    <tr>\n",
       "      <th>79997</th>\n",
       "      <td>Flyleaf</td>\n",
       "      <td>Call You Out</td>\n",
       "      <td>How can you act like you know\\nWhen all you kn...</td>\n",
       "      <td>Rock</td>\n",
       "    </tr>\n",
       "    <tr>\n",
       "      <th>79998</th>\n",
       "      <td>Flyleaf</td>\n",
       "      <td>Beautiful Bride</td>\n",
       "      <td>Unified diversity\\nFunctioning as one body\\nEv...</td>\n",
       "      <td>Rock</td>\n",
       "    </tr>\n",
       "    <tr>\n",
       "      <th>79999</th>\n",
       "      <td>Flyleaf</td>\n",
       "      <td>Ocean Waves</td>\n",
       "      <td>So many wasted days\\nCome and go like ocean wa...</td>\n",
       "      <td>Rock</td>\n",
       "    </tr>\n",
       "  </tbody>\n",
       "</table>\n",
       "<p>80000 rows × 4 columns</p>\n",
       "</div>"
      ],
      "text/plain": [
       "         artist                       song  \\\n",
       "0      Disperse                     Tether   \n",
       "1      Disperse                   Foreword   \n",
       "2      Disperse  Touching The Golden Cloud   \n",
       "3      Disperse                       Neon   \n",
       "4      Disperse                      Kites   \n",
       "...         ...                        ...   \n",
       "79995   Flyleaf               Broken Wings   \n",
       "79996   Flyleaf                 Swept Away   \n",
       "79997   Flyleaf               Call You Out   \n",
       "79998   Flyleaf            Beautiful Bride   \n",
       "79999   Flyleaf                Ocean Waves   \n",
       "\n",
       "                                                  lyrics             genre  \n",
       "0      Warm-hearted\\nDirections\\nWe're off the map\\nI...  Alternative Rock  \n",
       "1                                         [Instrumental]  Alternative Rock  \n",
       "2      Hear in this garden\\nHear in this space\\nImmer...  Alternative Rock  \n",
       "3      Hello dear stranger\\nI've got so much to tell ...  Alternative Rock  \n",
       "4      Still a headache\\nFrom last night\\nIt was vali...  Alternative Rock  \n",
       "...                                                  ...               ...  \n",
       "79995  Thank you for being such a friend to me\\nOh, I...              Rock  \n",
       "79996  The evil fell from your pretty mouth\\nWrapped ...              Rock  \n",
       "79997  How can you act like you know\\nWhen all you kn...              Rock  \n",
       "79998  Unified diversity\\nFunctioning as one body\\nEv...              Rock  \n",
       "79999  So many wasted days\\nCome and go like ocean wa...              Rock  \n",
       "\n",
       "[80000 rows x 4 columns]"
      ]
     },
     "execution_count": 2,
     "metadata": {},
     "output_type": "execute_result"
    }
   ],
   "source": [
    "dataframe = pd.read_csv('E:\\\\Repos\\\\comp550-final-project\\\\data\\\\scraped-lyrics-v1.csv')\n",
    "dataframe"
   ]
  },
  {
   "cell_type": "markdown",
   "metadata": {},
   "source": [
    "Songs per genre available:"
   ]
  },
  {
   "cell_type": "code",
   "execution_count": 3,
   "metadata": {},
   "outputs": [
    {
     "data": {
      "text/plain": [
       "genre\n",
       "Alternative Rock    8000\n",
       "Country             8000\n",
       "Hard Rock           8000\n",
       "Heavy Metal         8000\n",
       "Hip-Hop             8000\n",
       "Indie               8000\n",
       "Pop                 8000\n",
       "R&B                 8000\n",
       "Rock                8000\n",
       "Soul                8000\n",
       "Name: lyrics, dtype: int64"
      ]
     },
     "execution_count": 3,
     "metadata": {},
     "output_type": "execute_result"
    }
   ],
   "source": [
    "dataframe.groupby('genre').count().lyrics"
   ]
  },
  {
   "cell_type": "code",
   "execution_count": null,
   "metadata": {},
   "outputs": [],
   "source": []
  }
 ],
 "metadata": {
  "kernelspec": {
   "display_name": "comp550 final project (venv)",
   "language": "python",
   "name": "venv"
  },
  "language_info": {
   "codemirror_mode": {
    "name": "ipython",
    "version": 3
   },
   "file_extension": ".py",
   "mimetype": "text/x-python",
   "name": "python",
   "nbconvert_exporter": "python",
   "pygments_lexer": "ipython3",
   "version": "3.7.6"
  }
 },
 "nbformat": 4,
 "nbformat_minor": 4
}
