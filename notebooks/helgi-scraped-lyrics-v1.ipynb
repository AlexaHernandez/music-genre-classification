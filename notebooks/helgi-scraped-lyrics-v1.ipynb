{
 "cells": [
  {
   "cell_type": "markdown",
   "metadata": {},
   "source": [
    "# Data exploration"
   ]
  },
  {
   "cell_type": "code",
   "execution_count": 1,
   "metadata": {},
   "outputs": [],
   "source": [
    "import numpy as np\n",
    "import pandas as pd"
   ]
  },
  {
   "cell_type": "code",
   "execution_count": 5,
   "metadata": {},
   "outputs": [],
   "source": [
    "dataframe = pd.read_csv('E:\\\\Repos\\\\comp550-final-project\\\\data\\\\scraped-lyrics-v1.csv')"
   ]
  },
  {
   "cell_type": "code",
   "execution_count": 6,
   "metadata": {},
   "outputs": [
    {
     "data": {
      "text/html": [
       "<div>\n",
       "<style scoped>\n",
       "    .dataframe tbody tr th:only-of-type {\n",
       "        vertical-align: middle;\n",
       "    }\n",
       "\n",
       "    .dataframe tbody tr th {\n",
       "        vertical-align: top;\n",
       "    }\n",
       "\n",
       "    .dataframe thead th {\n",
       "        text-align: right;\n",
       "    }\n",
       "</style>\n",
       "<table border=\"1\" class=\"dataframe\">\n",
       "  <thead>\n",
       "    <tr style=\"text-align: right;\">\n",
       "      <th></th>\n",
       "      <th>artist</th>\n",
       "      <th>song</th>\n",
       "      <th>lyrics</th>\n",
       "      <th>genre</th>\n",
       "    </tr>\n",
       "  </thead>\n",
       "  <tbody>\n",
       "    <tr>\n",
       "      <th>0</th>\n",
       "      <td>Michael Bublé</td>\n",
       "      <td>Comin' Home Baby</td>\n",
       "      <td>(Do-do-do-do-do-do-do-do)\\nEvery night &amp; day I...</td>\n",
       "      <td>Blues</td>\n",
       "    </tr>\n",
       "    <tr>\n",
       "      <th>1</th>\n",
       "      <td>Michael Bublé</td>\n",
       "      <td>Take You Away</td>\n",
       "      <td>I see you're forcing that smile\\nAnd it's been...</td>\n",
       "      <td>Blues</td>\n",
       "    </tr>\n",
       "    <tr>\n",
       "      <th>2</th>\n",
       "      <td>Michael Bublé</td>\n",
       "      <td>Peroxide Swing</td>\n",
       "      <td>Grab a gal. You're gonna, gonna make her spin ...</td>\n",
       "      <td>Blues</td>\n",
       "    </tr>\n",
       "    <tr>\n",
       "      <th>3</th>\n",
       "      <td>Michael Bublé</td>\n",
       "      <td>Santa Claus Is Coming To Town</td>\n",
       "      <td>You better watch out\\nYou better not cry\\nYou ...</td>\n",
       "      <td>Blues</td>\n",
       "    </tr>\n",
       "    <tr>\n",
       "      <th>4</th>\n",
       "      <td>Michael Bublé</td>\n",
       "      <td>Cry Me A River</td>\n",
       "      <td>Why don't you, why don't you\\nWhy don't you cr...</td>\n",
       "      <td>Blues</td>\n",
       "    </tr>\n",
       "    <tr>\n",
       "      <th>...</th>\n",
       "      <td>...</td>\n",
       "      <td>...</td>\n",
       "      <td>...</td>\n",
       "      <td>...</td>\n",
       "    </tr>\n",
       "    <tr>\n",
       "      <th>75813</th>\n",
       "      <td>The Band Perry</td>\n",
       "      <td>Back To Me Without You</td>\n",
       "      <td>I wanna wake where I was born\\nand breathe the...</td>\n",
       "      <td>Country</td>\n",
       "    </tr>\n",
       "    <tr>\n",
       "      <th>75814</th>\n",
       "      <td>The Band Perry</td>\n",
       "      <td>Don't Let Me Be Lonely</td>\n",
       "      <td>I need a saving grace\\nA hiding place\\nI don't...</td>\n",
       "      <td>Country</td>\n",
       "    </tr>\n",
       "    <tr>\n",
       "      <th>75815</th>\n",
       "      <td>The Band Perry</td>\n",
       "      <td>All Your Life</td>\n",
       "      <td>Would you walk to the edge of the ocean\\nJust ...</td>\n",
       "      <td>Country</td>\n",
       "    </tr>\n",
       "    <tr>\n",
       "      <th>75816</th>\n",
       "      <td>The Band Perry</td>\n",
       "      <td>You Lie</td>\n",
       "      <td>It ain't complicated\\nWell, I've grown to hate...</td>\n",
       "      <td>Country</td>\n",
       "    </tr>\n",
       "    <tr>\n",
       "      <th>75817</th>\n",
       "      <td>The Band Perry</td>\n",
       "      <td>Quittin' You</td>\n",
       "      <td>I don't know what I was thinking,\\nYou were no...</td>\n",
       "      <td>Country</td>\n",
       "    </tr>\n",
       "  </tbody>\n",
       "</table>\n",
       "<p>75818 rows × 4 columns</p>\n",
       "</div>"
      ],
      "text/plain": [
       "               artist                           song  \\\n",
       "0       Michael Bublé               Comin' Home Baby   \n",
       "1       Michael Bublé                  Take You Away   \n",
       "2       Michael Bublé                 Peroxide Swing   \n",
       "3       Michael Bublé  Santa Claus Is Coming To Town   \n",
       "4       Michael Bublé                 Cry Me A River   \n",
       "...               ...                            ...   \n",
       "75813  The Band Perry         Back To Me Without You   \n",
       "75814  The Band Perry         Don't Let Me Be Lonely   \n",
       "75815  The Band Perry                  All Your Life   \n",
       "75816  The Band Perry                        You Lie   \n",
       "75817  The Band Perry                   Quittin' You   \n",
       "\n",
       "                                                  lyrics    genre  \n",
       "0      (Do-do-do-do-do-do-do-do)\\nEvery night & day I...    Blues  \n",
       "1      I see you're forcing that smile\\nAnd it's been...    Blues  \n",
       "2      Grab a gal. You're gonna, gonna make her spin ...    Blues  \n",
       "3      You better watch out\\nYou better not cry\\nYou ...    Blues  \n",
       "4      Why don't you, why don't you\\nWhy don't you cr...    Blues  \n",
       "...                                                  ...      ...  \n",
       "75813  I wanna wake where I was born\\nand breathe the...  Country  \n",
       "75814  I need a saving grace\\nA hiding place\\nI don't...  Country  \n",
       "75815  Would you walk to the edge of the ocean\\nJust ...  Country  \n",
       "75816  It ain't complicated\\nWell, I've grown to hate...  Country  \n",
       "75817  I don't know what I was thinking,\\nYou were no...  Country  \n",
       "\n",
       "[75818 rows x 4 columns]"
      ]
     },
     "execution_count": 6,
     "metadata": {},
     "output_type": "execute_result"
    }
   ],
   "source": [
    "dataframe"
   ]
  },
  {
   "cell_type": "markdown",
   "metadata": {},
   "source": [
    "Genres covered:"
   ]
  },
  {
   "cell_type": "code",
   "execution_count": 4,
   "metadata": {},
   "outputs": [
    {
     "data": {
      "text/plain": [
       "array(['Blues', 'Rock', 'Heavy Metal', 'Pop', 'Hip-Hop', 'Hardcore',\n",
       "       'Hard Rock', 'Electronica', 'Folk', 'Country'], dtype=object)"
      ]
     },
     "execution_count": 4,
     "metadata": {},
     "output_type": "execute_result"
    }
   ],
   "source": [
    "dataframe.genre.unique()"
   ]
  },
  {
   "cell_type": "markdown",
   "metadata": {},
   "source": [
    "Songs per genre available:"
   ]
  },
  {
   "cell_type": "code",
   "execution_count": 7,
   "metadata": {},
   "outputs": [
    {
     "data": {
      "text/plain": [
       "genre\n",
       "Blues           3991\n",
       "Country         7071\n",
       "Electronica     6021\n",
       "Folk            6309\n",
       "Hard Rock       7905\n",
       "Hardcore        4519\n",
       "Heavy Metal    10000\n",
       "Hip-Hop        10000\n",
       "Pop            10000\n",
       "Rock           10000\n",
       "Name: lyrics, dtype: int64"
      ]
     },
     "execution_count": 7,
     "metadata": {},
     "output_type": "execute_result"
    }
   ],
   "source": [
    "dataframe.groupby('genre').count().lyrics"
   ]
  },
  {
   "cell_type": "markdown",
   "metadata": {},
   "source": [
    "Best would be to have the same amount of songs from each genre, we will probably make a subsequent version of this dataset that satisfies this criteria"
   ]
  },
  {
   "cell_type": "code",
   "execution_count": null,
   "metadata": {},
   "outputs": [],
   "source": []
  }
 ],
 "metadata": {
  "kernelspec": {
   "display_name": "comp-550-final-project",
   "language": "python",
   "name": "venv"
  },
  "language_info": {
   "codemirror_mode": {
    "name": "ipython",
    "version": 3
   },
   "file_extension": ".py",
   "mimetype": "text/x-python",
   "name": "python",
   "nbconvert_exporter": "python",
   "pygments_lexer": "ipython3",
   "version": "3.7.6"
  }
 },
 "nbformat": 4,
 "nbformat_minor": 4
}
